{
 "cells": [
  {
   "cell_type": "markdown",
   "id": "f9c65fbf-f4a6-4847-add8-720d425f00d6",
   "metadata": {},
   "source": [
    "# 实验五 RLC电路暂态特性的研究\n",
    "\n",
    "Copyright © Zjl37 2024"
   ]
  },
  {
   "cell_type": "code",
   "execution_count": null,
   "id": "ff9dcd99-e7ec-4c8e-960f-b6d5dfc196b8",
   "metadata": {},
   "outputs": [],
   "source": [
    "import numpy as np\n",
    "import yaml\n",
    "import re\n",
    "import scipy\n",
    "import matplotlib.pyplot as plt"
   ]
  },
  {
   "cell_type": "code",
   "execution_count": null,
   "id": "3459391a-2fb0-4240-bd5c-c7fc42546708",
   "metadata": {},
   "outputs": [],
   "source": [
    "%config InlineBackend.figure_format = 'retina'"
   ]
  },
  {
   "cell_type": "code",
   "execution_count": null,
   "id": "68b66c57-252c-4940-899a-7ec76872df56",
   "metadata": {},
   "outputs": [],
   "source": [
    "# 从文件中读取数据\n",
    "data_file = './data.yaml'\n",
    "data = yaml.safe_load(open(data_file))\n",
    "def data_to_list(ln, cast=float):\n",
    "    return list(map(cast, re.split(r'[,，;；]?\\s+', ln)))"
   ]
  },
  {
   "cell_type": "code",
   "execution_count": null,
   "id": "60b3fddc-5c54-43da-8383-bf348d269d2e",
   "metadata": {},
   "outputs": [],
   "source": [
    "def parse_v(s: str, unit='V'):\n",
    "    suffixes = [\n",
    "        ('µ'+unit, 1e-6),\n",
    "        ('u'+unit, 1e-6),\n",
    "        ('m'+unit, 1e-3),\n",
    "\n",
    "        ('k'+unit, 1e3),\n",
    "        (unit, 1),\n",
    "    ]\n",
    "    for suffix, factor in suffixes:\n",
    "        if s.endswith(suffix):\n",
    "            return float(s[:-len(suffix)])*factor\n",
    "    \n",
    "    try:\n",
    "        res = float(s)\n",
    "        if unit != '':\n",
    "            print(f\"警告⚠️： 数值 {s} 未写明单位。\")\n",
    "        return res\n",
    "    except:\n",
    "        raise ValueError(f\"无法解析数值 {s}！\")"
   ]
  },
  {
   "cell_type": "markdown",
   "id": "78f2f7dd-6332-44ae-a18b-73be3360430a",
   "metadata": {},
   "source": [
    "### 3. RLC 串联电路的暂态特性"
   ]
  },
  {
   "cell_type": "code",
   "execution_count": null,
   "id": "6f3f403c-56f4-4e4d-932c-3a2aff21981e",
   "metadata": {},
   "outputs": [],
   "source": [
    "st = data['st3']\n",
    "st\n",
    "\n",
    "UC = data_to_list(st['UC(t1+nT)'], cast=parse_v) # (V)\n",
    "UC = np.array(UC)\n",
    "\n",
    "if UC[0] == 114:\n",
    "    raise ValueError(f\"请先在 {data_file} 中填写好你的实验数据。\")"
   ]
  },
  {
   "cell_type": "code",
   "execution_count": null,
   "id": "465aca6c-f492-4f01-864a-46db4e1df0ee",
   "metadata": {
    "scrolled": true
   },
   "outputs": [],
   "source": [
    "\n",
    "E = st['E'] # (V)\n",
    "T = st['T'] # (µs)\n",
    "t1 = st['t1'] # (µs)\n",
    "\n",
    "n = len(UC)\n",
    "t = np.linspace(t1, t1+(n-1)*T, n) # (µs)\n",
    "\n",
    "y = np.log(UC/E)\n",
    "\n",
    "slope, intercept, r_value, p_value, std_err = scipy.stats.linregress(t, y) # slope: (1/µs)\n",
    "print(f\"拟合直线的斜率为 {slope} µs⁻¹\")\n"
   ]
  },
  {
   "cell_type": "code",
   "execution_count": null,
   "id": "a28049f1-5ee2-4316-803e-3fd203b5b807",
   "metadata": {},
   "outputs": [],
   "source": [
    "tau = -1/slope # (µs)\n",
    "print(f\"实验测得的时间常数 τ = {tau} µs\")"
   ]
  },
  {
   "cell_type": "code",
   "execution_count": null,
   "id": "eda1ff4b-35b7-40b0-9587-fee4c2326722",
   "metadata": {},
   "outputs": [],
   "source": [
    "def uhat(t):\n",
    "    return intercept + slope*t\n",
    "\n",
    "plt.figure(figsize=(5, 3))\n",
    "plt.plot(t, uhat(t), '--', label=\"拟合直线\")\n",
    "plt.plot(t, y, 'o', label=r\"$ \\ln (U_C/E - 1) $\")\n",
    "plt.xlabel(r\"$t \\: / \\: \\rm{µs}$\")\n",
    "plt.grid()\n",
    "# 如图例上中文不能显示，在下方修改字体\n",
    "plt.legend(prop={'family': 'Source Han Sans CN'})\n",
    "plt.savefig('./fig/st3-UC-E.svg', bbox_inches='tight')\n",
    "plt.show()"
   ]
  },
  {
   "cell_type": "code",
   "execution_count": null,
   "id": "c5548b7c-b5f1-400e-9f4f-2162bbae1f66",
   "metadata": {},
   "outputs": [],
   "source": [
    "RL = 6.5 # (Ω)\n",
    "RS = 50 # (Ω)\n",
    "L = 10 # (mH)\n",
    "\n",
    "tau0 = 2*L/(RL+RS) # (ms)\n",
    "print(f\"时间常数理论值 τ₀ = {tau0} ms\")"
   ]
  },
  {
   "cell_type": "code",
   "execution_count": null,
   "id": "1e7f8d93-9e5b-4cb3-b76e-922befb8a9f2",
   "metadata": {},
   "outputs": [],
   "source": []
  }
 ],
 "metadata": {
  "kernelspec": {
   "display_name": "Python 3 (ipykernel)",
   "language": "python",
   "name": "python3"
  },
  "language_info": {
   "codemirror_mode": {
    "name": "ipython",
    "version": 3
   },
   "file_extension": ".py",
   "mimetype": "text/x-python",
   "name": "python",
   "nbconvert_exporter": "python",
   "pygments_lexer": "ipython3",
   "version": "3.12.3"
  }
 },
 "nbformat": 4,
 "nbformat_minor": 5
}
