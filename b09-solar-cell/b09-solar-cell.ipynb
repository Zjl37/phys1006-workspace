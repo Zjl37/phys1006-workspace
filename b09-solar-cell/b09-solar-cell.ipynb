{
 "cells": [
  {
   "cell_type": "markdown",
   "metadata": {},
   "source": [
    "# 实验九 太阳能电池的基本特性研究"
   ]
  },
  {
   "cell_type": "code",
   "execution_count": null,
   "metadata": {},
   "outputs": [],
   "source": [
    "import matplotlib.pyplot as plt\n",
    "import matplotlib as mpl\n",
    "import random\n",
    "import math\n",
    "import numpy as np\n",
    "import pandas as pd\n",
    "import os"
   ]
  },
  {
   "cell_type": "code",
   "execution_count": null,
   "metadata": {},
   "outputs": [],
   "source": [
    "# 如图表中字体无法显示，在此修改字体\n",
    "plt.rcParams['font.size'] = 9\n",
    "plt.rcParams['font.sans-serif'] = ['Source Han Sans CN']"
   ]
  },
  {
   "cell_type": "code",
   "execution_count": null,
   "metadata": {},
   "outputs": [],
   "source": [
    "%config InlineBackend.figure_format = 'retina'"
   ]
  },
  {
   "cell_type": "code",
   "execution_count": null,
   "metadata": {},
   "outputs": [],
   "source": [
    "colors = list(mpl.colors.XKCD_COLORS.keys())\n",
    "random.shuffle(colors)\n",
    "plt.rcParams['axes.prop_cycle'] = mpl.cycler(color=colors)\n",
    "\n",
    "print('colors =', colors[:5])\n",
    "plt.figure(figsize=(5,1))\n",
    "plt.title(\"Does these colors look pretty to you? If not, run this cell again.\")\n",
    "plt.gca().axis('off')\n",
    "plt.scatter(range(5), [1]*5, color=colors[:5], s=512)\n",
    "plt.show()"
   ]
  },
  {
   "cell_type": "code",
   "execution_count": null,
   "metadata": {},
   "outputs": [],
   "source": [
    "plt.rcParams['axes.prop_cycle'] = mpl.cycler(color=colors)"
   ]
  },
  {
   "cell_type": "markdown",
   "metadata": {},
   "source": [
    "### 1. 硅太阳能电池的暗特性测量"
   ]
  },
  {
   "cell_type": "code",
   "execution_count": null,
   "metadata": {},
   "outputs": [],
   "source": [
    "st1 = pd.read_excel(\"./data-raw.xlsx\", sheet_name=\"st1-太阳能电池的暗伏安特性测量\", header=[0,1])\n"
   ]
  },
  {
   "cell_type": "code",
   "execution_count": null,
   "metadata": {},
   "outputs": [],
   "source": [
    "g1 = st1.sort_values(by=st1.columns[0])\n",
    "U = g1.iloc[:,0]\n",
    "I = g1.iloc[:,1]"
   ]
  },
  {
   "cell_type": "code",
   "execution_count": null,
   "metadata": {},
   "outputs": [],
   "source": [
    "os.makedirs(\"./fig\", exist_ok=True)"
   ]
  },
  {
   "cell_type": "code",
   "execution_count": null,
   "metadata": {},
   "outputs": [],
   "source": [
    "plt.figure(figsize=(3, 3))\n",
    "plt.plot(U, I, '.-')\n",
    "plt.xlabel(r'$U \\: \\rm (V)$')\n",
    "plt.ylabel(r'$I \\: \\rm (mA)$')\n",
    "plt.grid()\n",
    "# plt.title(\"单晶硅的暗伏安特性曲线\")\n",
    "plt.savefig(\"./fig/st1-g1.svg\", bbox_inches=\"tight\")\n",
    "plt.show()"
   ]
  },
  {
   "cell_type": "code",
   "execution_count": null,
   "metadata": {},
   "outputs": [],
   "source": [
    "g2 = st1.iloc[:, 2:4]\n",
    "g2.iloc[:,0] = g2.iloc[:,0].fillna(st1.iloc[:,0])\n",
    "g2 = g2.dropna().sort_values(by=g2.columns[0])"
   ]
  },
  {
   "cell_type": "code",
   "execution_count": null,
   "metadata": {},
   "outputs": [],
   "source": [
    "U = g2.iloc[:,0]\n",
    "I = g2.iloc[:,1]\n",
    "plt.figure(figsize=(3, 3))\n",
    "plt.plot(U, I, '.-', color=colors[1])\n",
    "plt.xlabel(r'$U \\: \\rm (V)$')\n",
    "plt.ylabel(r'$I \\: \\rm (mA)$')\n",
    "# plt.title(\"非晶硅的暗伏安特性曲线\")\n",
    "plt.grid()\n",
    "plt.savefig(\"./fig/st1-g2.svg\", bbox_inches=\"tight\")\n",
    "plt.show()"
   ]
  },
  {
   "cell_type": "markdown",
   "metadata": {},
   "source": [
    "### 2. 开路电压、短路电流与光强关系测量"
   ]
  },
  {
   "cell_type": "code",
   "execution_count": null,
   "metadata": {},
   "outputs": [],
   "source": [
    "st2 = pd.read_excel(\"./data-raw.xlsx\", sheet_name=\"st2-开路电压、短路电流与光强关系测量\", index_col=[0,1])"
   ]
  },
  {
   "cell_type": "code",
   "execution_count": null,
   "metadata": {},
   "outputs": [],
   "source": [
    "I = st2.iloc[0]"
   ]
  },
  {
   "cell_type": "code",
   "execution_count": null,
   "metadata": {},
   "outputs": [],
   "source": [
    "plt.figure(figsize=(6, 4))\n",
    "plt.plot(st2.iloc[0], st2.iloc[1], '.-', label=\"单晶硅\")\n",
    "plt.plot(st2.iloc[0], st2.iloc[3], '.-', label=\"非晶硅\")\n",
    "plt.ylabel(r'$V_{\\rm OC} \\: \\rm (V)$')\n",
    "plt.xlabel(r'$I \\: \\rm (W/m^2)$')\n",
    "# plt.title(\"两种太阳能电池的开路电压随光强变化的关系\")\n",
    "plt.xlim(0, 900)\n",
    "plt.grid()\n",
    "plt.legend()\n",
    "plt.savefig(\"./fig/st2-voc.svg\", bbox_inches=\"tight\")\n",
    "plt.show()"
   ]
  },
  {
   "cell_type": "code",
   "execution_count": null,
   "metadata": {},
   "outputs": [],
   "source": [
    "plt.figure(figsize=(4, 3))\n",
    "plt.plot(st2.iloc[0], st2.iloc[2], '.-', label=\"单晶硅\")\n",
    "plt.ylabel(r'$I_{\\rm SC} \\: \\rm (mA)$')\n",
    "plt.xlabel(r'$I \\: \\rm (W/m^2)$')\n",
    "# plt.title(\"单晶硅太阳能电池的短路电流随光强变化的关系\")\n",
    "plt.xlim(0, 900)\n",
    "plt.ylim(0, 100)\n",
    "plt.grid()\n",
    "# plt.legend()\n",
    "plt.savefig(\"./fig/st2-isc-monocryst.svg\", bbox_inches=\"tight\")\n",
    "plt.show()"
   ]
  },
  {
   "cell_type": "code",
   "execution_count": null,
   "metadata": {},
   "outputs": [],
   "source": [
    "plt.figure(figsize=(4, 3))\n",
    "plt.plot(st2.iloc[0], st2.iloc[4], '.-', color=colors[1], label=\"非晶硅\")\n",
    "plt.ylabel(r'$I_{\\rm SC} \\: \\rm (mA)$')\n",
    "plt.xlabel(r'$I \\: \\rm (W/m^2)$')\n",
    "# plt.title(\"非晶硅太阳能电池的短路电流随光强变化的关系\")\n",
    "plt.xlim(0, 900)\n",
    "plt.ylim(0, 8)\n",
    "plt.grid()\n",
    "# plt.legend()\n",
    "plt.savefig(\"./fig/st2-isc-amorph.svg\", bbox_inches=\"tight\")\n",
    "plt.show()"
   ]
  },
  {
   "cell_type": "markdown",
   "metadata": {},
   "source": [
    "### 3. 太阳能电池输出特性测试"
   ]
  },
  {
   "cell_type": "code",
   "execution_count": null,
   "metadata": {},
   "outputs": [],
   "source": [
    "st3 = pd.read_excel(\"./data-raw.xlsx\", sheet_name=\"st3-太阳能电池输出特性测试\", index_col=[0,1], dtype=str)"
   ]
  },
  {
   "cell_type": "code",
   "execution_count": null,
   "metadata": {},
   "outputs": [],
   "source": [
    "# 太阳能电池面积\n",
    "S = 50e-3*50e-3 # (m^2)\n",
    "# 光强\n",
    "I_light = float(st3.columns[0]) # (W/m^2)"
   ]
  },
  {
   "cell_type": "code",
   "execution_count": null,
   "metadata": {},
   "outputs": [],
   "source": [
    "def calc_st3(V, I, name, outfile):\n",
    "    # V = st3.iloc[0] # (V)\n",
    "    # I = st3.iloc[1] # (mA)\n",
    "    P = V*I # (mW)\n",
    "    R = V/I*1000 # (Ω)\n",
    "    \n",
    "    fig, ax1 = plt.subplots()\n",
    "    \n",
    "    fig.set_size_inches(5, 3)\n",
    "    ax1.set_xlabel('$V$ (V)')\n",
    "    ax1.set_ylabel('$I$ (mA)')\n",
    "    ax1.plot(V, I, '.-', color=colors[2], label=\"输出电流 $I$\")\n",
    "    \n",
    "    ax2 = ax1.twinx()\n",
    "    ax2.set_ylabel('$P_o$ (mW)')\n",
    "    ax2.plot(V, P, '+-', color=colors[3], label=\"输出功率 $P_o$\")\n",
    "\n",
    "    # ax1.legend(loc='lower center')\n",
    "    # ax2.legend(loc='center left')\n",
    "    fig.legend(loc=(0.4, 0.2))\n",
    "    # plt.title(name + \"的伏安特性及功率曲线\")\n",
    "    plt.savefig(outfile, bbox_inches=\"tight\", dpi=600)\n",
    "    plt.show()\n",
    "\n",
    "    print(f\"=== {name} ===\")\n",
    "    print(\"最大功率：\")\n",
    "    print(f\"{P.max()} (mW)\")\n",
    "    print(\"最佳匹配负载电阻：\")\n",
    "    print(f\"{R[P.idxmax()]} (Ω)\")\n",
    "\n",
    "    Isc = I.iloc[0] # (mA)\n",
    "    Voc = V.max() # (V)\n",
    "    print()\n",
    "    print(\"短路电流：\")\n",
    "    print(f\"Isc = {Isc} (mA)\")\n",
    "    print(\"开路电压：\")\n",
    "    print(f\"Voc = {Voc} (V)\")\n",
    "    print(\"填充因子：\")\n",
    "    print(f\" FF = {P.max()/(Isc*Voc)}\")\n",
    "    print(\"转换效率：\")\n",
    "    print(f\" ηₛ = {P.max()*1e-3/(S*I_light)*100} %\")\n",
    "\n",
    "    def _format_power(x):\n",
    "        return '' if np.isnan(x) else \"{:.2f}\".format(x)\n",
    "\n",
    "    return P.apply(_format_power)\n",
    "    \n",
    "    "
   ]
  },
  {
   "cell_type": "code",
   "execution_count": null,
   "metadata": {},
   "outputs": [],
   "source": [
    "st3.iloc[2] = calc_st3(st3.iloc[0].astype(float), st3.iloc[1].astype(float), \"单晶硅\", \"./fig/st3-monocryst.svg\")"
   ]
  },
  {
   "cell_type": "code",
   "execution_count": null,
   "metadata": {},
   "outputs": [],
   "source": [
    "st3.iloc[5] = calc_st3(st3.iloc[3].astype(float), st3.iloc[4].astype(float), \"非晶硅\", \"./fig/st3-amorph.svg\")"
   ]
  },
  {
   "cell_type": "code",
   "execution_count": null,
   "metadata": {},
   "outputs": [],
   "source": [
    "import shutil\n",
    "\n",
    "filename_out = \"./data.xlsx\"\n",
    "shutil.copyfile(\"./data-raw.xlsx\", filename_out)\n",
    "\n",
    "# https://stackoverflow.com/questions/20219254/how-to-write-to-an-existing-excel-file-without-overwriting-data-using-pandas\n",
    "with pd.ExcelWriter(filename_out, mode=\"a\", engine='openpyxl', if_sheet_exists=\"overlay\") as writer:\n",
    "    st3.to_excel(writer, sheet_name=\"st3-太阳能电池输出特性测试\"#, index=None, startcol=2, startrow=3\n",
    "                )  # Start at C4 \n",
    "\n",
    "print(f'输出功率计算后已写入文件 {filename_out}。')\n"
   ]
  },
  {
   "cell_type": "code",
   "execution_count": null,
   "metadata": {},
   "outputs": [],
   "source": []
  }
 ],
 "metadata": {
  "kernelspec": {
   "display_name": "Python 3 (ipykernel)",
   "language": "python",
   "name": "python3"
  },
  "language_info": {
   "codemirror_mode": {
    "name": "ipython",
    "version": 3
   },
   "file_extension": ".py",
   "mimetype": "text/x-python",
   "name": "python",
   "nbconvert_exporter": "python",
   "pygments_lexer": "ipython3",
   "version": "3.12.7"
  }
 },
 "nbformat": 4,
 "nbformat_minor": 4
}
