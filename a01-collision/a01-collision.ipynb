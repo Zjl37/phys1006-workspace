{
 "cells": [
  {
   "cell_type": "markdown",
   "id": "afeed66a-1932-46ee-889c-7a9b5d59b624",
   "metadata": {},
   "source": [
    "# 实验一 碰撞打靶实验\n",
    "\n",
    "Copyright © Zjl37 2024"
   ]
  },
  {
   "cell_type": "code",
   "execution_count": null,
   "id": "d0d0229c-103a-4a20-80ad-47ac7e448ecd",
   "metadata": {},
   "outputs": [],
   "source": [
    "import numpy as np\n",
    "import csv\n",
    "\n",
    "def read_csv(filename):\n",
    "    \"\"\"读取 csv 文件\"\"\"\n",
    "    with open(filename, 'r') as f:\n",
    "        reader = csv.reader(f)\n",
    "        return list(filter(len, reader))\n"
   ]
  },
  {
   "cell_type": "code",
   "execution_count": null,
   "id": "a96be722-48cd-45ca-9382-78c6f22ef993",
   "metadata": {},
   "outputs": [],
   "source": [
    "st1data = read_csv('./data/st1.csv')\n",
    "x0 = float(st1data[1][5]) # (cm)\n",
    "x0 = x0/100 # (m)\n",
    "y = float(st1data[1][6]) # (cm)\n",
    "y = y/100 # (m)\n",
    "st2data = read_csv('./data/st2.csv')"
   ]
  },
  {
   "cell_type": "code",
   "execution_count": null,
   "id": "da2b755f-f633-4ffa-ae01-1966999b2973",
   "metadata": {},
   "outputs": [],
   "source": [
    "st2data = np.array(st2data).transpose()"
   ]
  },
  {
   "cell_type": "code",
   "execution_count": null,
   "id": "ddfb34f9-b0b6-416c-b260-c23d950490d6",
   "metadata": {},
   "outputs": [],
   "source": [
    "if (st2data[1:4, 2:12] == ' 18.00').all():\n",
    "    raise ValueError(\"请先在 ./data/st1.csv 和 ./data/st2.csv 文件中填写好你的实验数据。\")"
   ]
  },
  {
   "cell_type": "markdown",
   "id": "bc966438-ac31-46ba-9339-1894e53aecb8",
   "metadata": {},
   "source": [
    "### 计算 $h_0$，$h$"
   ]
  },
  {
   "cell_type": "code",
   "execution_count": null,
   "id": "b8fab2f0-9931-43eb-bd66-ccef90e5445a",
   "metadata": {},
   "outputs": [],
   "source": [
    "摆球 = '钢球'\n",
    "m1 = float([args[0] for ball, *args in st1data[1:] if 摆球 in ball][0]) # (g)\n",
    "m1 = m1/1000 # (kg)"
   ]
  },
  {
   "cell_type": "code",
   "execution_count": null,
   "id": "8769d07f-a6d7-4712-b4e0-ff3687cedac4",
   "metadata": {},
   "outputs": [],
   "source": [
    "h0_ = {}\n",
    "h_ = {}\n",
    "\n",
    "for ball, *args in st1data[1:]:\n",
    "    ball = ball.strip()\n",
    "    m, d = map(float, args[:2])\n",
    "    m2 = m/1000 # (kg)\n",
    "    r = d/2/100 # (m)\n",
    "    h0 = ((m1 + m2)*x0/(4*m1))**2/y # (m)\n",
    "    h = h0 + r + y # (m)\n",
    "    print(f'=== {ball} ===')\n",
    "    print(f'h0 = {h0*100} cm')\n",
    "    print(f' h = {h*100} cm')\n",
    "    h0_[ball] = h0\n",
    "    h_[ball] = h\n",
    "    "
   ]
  },
  {
   "cell_type": "markdown",
   "id": "f67f44fb-4368-4bda-8a5c-0b28f1acdd79",
   "metadata": {},
   "source": [
    "### 计算机械能损失"
   ]
  },
  {
   "cell_type": "code",
   "execution_count": null,
   "id": "a7b51b25-3c09-4579-a112-c164586ec518",
   "metadata": {},
   "outputs": [],
   "source": [
    "hp_ = {}\n",
    "x_ = {}\n",
    "\n",
    "for ball, prop, *val in st2data[1:]:\n",
    "    ball = ball.strip()\n",
    "    if \"h'\" in prop:\n",
    "        hp_[ball] = float(val[0])/100 # (m)\n",
    "    else:\n",
    "        x_[ball] = [float(v) for v in val if v.strip()] # (cm)\n"
   ]
  },
  {
   "cell_type": "code",
   "execution_count": null,
   "id": "db162c27-7a76-4337-b0be-4b6feba1628b",
   "metadata": {},
   "outputs": [],
   "source": [
    "for ball in x_:\n",
    "    xavg = np.mean(x_[ball]) # (cm)\n",
    "    hp, h, h0 = hp_[ball], h_[ball], h0_[ball]\n",
    "    dE = (hp - h)/(h0 + hp - h)\n",
    "    print(f\"=== {ball} ===\")\n",
    "    print(f\" ̅x = {xavg} cm\")\n",
    "    print(f\"ΔE = {dE*100} %\")\n",
    "    print(f\"̅x/x₀ = {xavg/x0} %\")\n",
    "    \n",
    "    "
   ]
  },
  {
   "cell_type": "code",
   "execution_count": null,
   "id": "26a5dfbf-f77f-48b8-83fa-f5896d4265f3",
   "metadata": {},
   "outputs": [],
   "source": []
  }
 ],
 "metadata": {
  "kernelspec": {
   "display_name": "Python 3 (ipykernel)",
   "language": "python",
   "name": "python3"
  },
  "language_info": {
   "codemirror_mode": {
    "name": "ipython",
    "version": 3
   },
   "file_extension": ".py",
   "mimetype": "text/x-python",
   "name": "python",
   "nbconvert_exporter": "python",
   "pygments_lexer": "ipython3",
   "version": "3.12.3"
  }
 },
 "nbformat": 4,
 "nbformat_minor": 5
}
