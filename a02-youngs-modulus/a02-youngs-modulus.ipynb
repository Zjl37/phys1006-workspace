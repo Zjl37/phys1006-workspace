{
 "cells": [
  {
   "cell_type": "markdown",
   "id": "b6af798b-6967-4416-9f69-c03f625de669",
   "metadata": {},
   "source": [
    "# 实验二 拉伸法测杨氏弹性模量\n",
    "\n",
    "Copyright © 2024 Zjl37"
   ]
  },
  {
   "cell_type": "code",
   "execution_count": null,
   "id": "c7db9ce4-5388-46b9-a985-21f580272338",
   "metadata": {},
   "outputs": [],
   "source": [
    "# 请安装 uncertainties 包：\n",
    "# pip install uncertainties\n",
    "\n",
    "import uncertainties\n",
    "from uncertainties import ufloat, unumpy\n",
    "import statistics as stat\n",
    "import csv\n",
    "import math"
   ]
  },
  {
   "cell_type": "code",
   "execution_count": null,
   "id": "4dc40acd-0e13-482c-b13c-84c6a8ccdfe6",
   "metadata": {},
   "outputs": [],
   "source": [
    "data = [[x.strip() for x in ln] for ln in csv.reader(open('./data-raw.csv'))]\n",
    "L_, H_, D_ = map(float, data[2][:3]) # (mm)\n",
    "dm_ = 1.00 # (kg)\n",
    "d0 = float(data[5][1]) # (mm) 螺旋测微器的零差 注：当可动刻度的零刻度线在固定刻度的零刻度线上方时为正\n",
    "d视 = [float(di) for di in data[7][1:7]] # (mm)\n",
    "xup = [float(x) for x in data[12][1:] if x != ''] # (mm)\n",
    "xdown = [float(x) for x in data[13][1:] if x != ''] # (mm)\n"
   ]
  },
  {
   "cell_type": "code",
   "execution_count": null,
   "id": "309b1d4c-46c1-40a3-89e5-3fcf2c6d90e2",
   "metadata": {},
   "outputs": [],
   "source": [
    "if not any(xdown):\n",
    "    raise ValueError('请先在 ./data-raw.csv 文件中填写你的实验数据。')"
   ]
  },
  {
   "cell_type": "markdown",
   "id": "71b22bae-a32e-4b98-9e90-1ba39e2ba737",
   "metadata": {},
   "source": [
    "### 一些测量工具的参考参数\n",
    "\n",
    "| 量具名称 | 测量的物理量 | 误差限（$\\Delta_仪$） |\n",
    "| :-: | :-: | :-: |\n",
    "| 钢卷尺 | $L, H$ | 0.8 mm |\n",
    "| 游标卡尺 | $D$ | 0.02 mm |\n",
    "| 螺旋测微器 | $d$ | 0.004 mm |\n",
    "| 数字拉力计 | $m$ | 0.005 kg |\n",
    "| 标尺 | $\\Delta x$ | 0.5 mm |\n"
   ]
  },
  {
   "cell_type": "code",
   "execution_count": null,
   "id": "b9401f9f-4c8b-4e0f-8e6f-345e5d9dd459",
   "metadata": {},
   "outputs": [],
   "source": [
    "C = math.sqrt(3)\n",
    "\n",
    "UL = UH = 0.8/C\n",
    "UD = 0.02/C\n",
    "Udm = 0.005/C\n",
    "\n",
    "L = ufloat(L_, UL) # (mm)\n",
    "H = ufloat(H_, UH) # (mm)\n",
    "D = ufloat(D_, UD) # (mm)\n",
    "dm = ufloat(dm_, Udm) # (kg)"
   ]
  },
  {
   "cell_type": "code",
   "execution_count": null,
   "id": "140d6a9b-aa55-4a85-a1ed-3c935ae36d77",
   "metadata": {},
   "outputs": [],
   "source": [
    "UL, UD, Udm"
   ]
  },
  {
   "cell_type": "code",
   "execution_count": null,
   "id": "ab22ff8c-dab1-4e33-8ed8-1cefe7abb032",
   "metadata": {},
   "outputs": [],
   "source": [
    "print(f\"\"\"\n",
    "L = {L:P} mm\n",
    "H = {H:P} mm\n",
    "D = {D:P} mm\n",
    "Δm = {dm:P} kg\n",
    "\"\"\")"
   ]
  },
  {
   "cell_type": "code",
   "execution_count": null,
   "id": "1bff0458-5302-421b-86a0-e46be8216ae7",
   "metadata": {},
   "outputs": [],
   "source": [
    "d_ = d0 + stat.mean(d视) # (mm)\n",
    "\n",
    "nd = len(d视)\n",
    "Sd视 = stat.stdev(d视)/math.sqrt(nd)\n",
    "ud = 0.004/C\n",
    "Ud = math.sqrt(Sd视**2 + ud**2)\n",
    "d_, Sd视, ud, Ud"
   ]
  },
  {
   "cell_type": "code",
   "execution_count": null,
   "id": "c32d7464-ebba-428c-9512-d1412dccaa83",
   "metadata": {},
   "outputs": [],
   "source": [
    "d = ufloat(d_, Ud)\n",
    "print(f\"d = {d:P} mm\")"
   ]
  },
  {
   "cell_type": "code",
   "execution_count": null,
   "id": "d2f0ec61-1ef5-4246-8f22-738cd260bc97",
   "metadata": {},
   "outputs": [],
   "source": [
    "xup = unumpy.uarray(xup, 0.5/C) # (mm)\n",
    "xdown = unumpy.uarray(xdown, 0.5/C) # (mm)\n",
    "# 计算 x_i\n",
    "x = (xup + xdown)/2 # (mm)\n",
    "# 逐差法，计算 Δx_i\n",
    "n = len(x)//2\n",
    "dx = x[-n:] - x[:n]"
   ]
  },
  {
   "cell_type": "code",
   "execution_count": null,
   "id": "076c516e-8ee3-400c-920e-fd956bc58da6",
   "metadata": {},
   "outputs": [],
   "source": [
    "# 将计算得的 x_i 和 Δx_i 写到文件\n",
    "\n",
    "def my_round_to_even(x, digits=1):\n",
    "    import decimal\n",
    "    return round(round(decimal.Decimal(x), 14), digits)\n",
    "\n",
    "data[7].insert(7, str(my_round_to_even(stat.mean(d视), 3)))\n",
    "data[14][1:] = [str(my_round_to_even(x.nominal_value)) for x in x]\n",
    "data[15][1:] = [str(my_round_to_even(x.nominal_value)) for x in dx]\n",
    "\n",
    "with open('./data.csv', 'w') as f:\n",
    "    csv.writer(f).writerows(data)"
   ]
  },
  {
   "cell_type": "code",
   "execution_count": null,
   "id": "e9c47acd-8f63-4dfe-9657-5345e93e5a3d",
   "metadata": {},
   "outputs": [],
   "source": [
    "dx = dx.mean()/n # (mm)\n",
    "dx_, Udx = dx.nominal_value, dx.std_dev\n",
    "print(f\"Δx = {dx:P}\")"
   ]
  },
  {
   "cell_type": "code",
   "execution_count": null,
   "id": "470c7380-83ad-46bf-a119-3f6c826f5f4b",
   "metadata": {},
   "outputs": [],
   "source": [
    "g = 9.7887 # (m/s²)"
   ]
  },
  {
   "cell_type": "code",
   "execution_count": null,
   "id": "92ad4582-117a-48a6-8577-7e0f8bca3d64",
   "metadata": {},
   "outputs": [],
   "source": [
    "# 计算杨氏模量 E\n",
    "\n",
    "E = 8*dm*g*(0.001*L)*(0.001*H)/(math.pi*(0.001*d)**2*(0.001*D)*(0.001*dx)) # (N/m²)\n",
    "print(f\"E = {E:P}\")"
   ]
  },
  {
   "cell_type": "code",
   "execution_count": null,
   "id": "9538f74f-fa65-4ed8-a706-42067035755d",
   "metadata": {},
   "outputs": [],
   "source": [
    "# 相对不确定度\n",
    "EE = E.std_dev / E.nominal_value\n",
    "EE"
   ]
  },
  {
   "cell_type": "code",
   "execution_count": null,
   "id": "710f3ad4-e305-460d-b173-3d4242711e09",
   "metadata": {},
   "outputs": [],
   "source": [
    "# 以上程序使用 uncertainties 库自动计算合成不确定度\n",
    "# 可以验证，其结果与使用公式算出的相符：\n",
    "\n",
    "Ej = [UL/L_, UH/H_, UD/D_, Udm/dm_, 2*Ud/d_, Udx/dx_]\n",
    "\n",
    "math.sqrt(sum(e**2 for e in Ej))"
   ]
  },
  {
   "cell_type": "code",
   "execution_count": null,
   "id": "1bb74a18-0cf6-4e54-b2c2-9d3e58ea0392",
   "metadata": {},
   "outputs": [],
   "source": [
    "print('合成相对不确定度的各分量')\n",
    "sorted(zip(['L', 'H', 'D', 'Δm', 'd', 'Δx'], Ej), key=lambda p: -p[1])"
   ]
  },
  {
   "cell_type": "code",
   "execution_count": null,
   "id": "0e5a7138-1f41-4b2e-a9ab-41019b65e7f2",
   "metadata": {},
   "outputs": [],
   "source": [
    "print('合成不确定度的各分量')\n",
    "sorted(E.error_components().items(), key=lambda p: -p[1])"
   ]
  },
  {
   "cell_type": "code",
   "execution_count": null,
   "id": "8867c08d-48ae-407a-8fde-9536c7c9f777",
   "metadata": {},
   "outputs": [],
   "source": []
  }
 ],
 "metadata": {
  "kernelspec": {
   "display_name": "Python 3 (ipykernel)",
   "language": "python",
   "name": "python3"
  },
  "language_info": {
   "codemirror_mode": {
    "name": "ipython",
    "version": 3
   },
   "file_extension": ".py",
   "mimetype": "text/x-python",
   "name": "python",
   "nbconvert_exporter": "python",
   "pygments_lexer": "ipython3",
   "version": "3.12.3"
  }
 },
 "nbformat": 4,
 "nbformat_minor": 5
}
