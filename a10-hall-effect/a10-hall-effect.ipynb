{
 "cells": [
  {
   "cell_type": "markdown",
   "metadata": {},
   "source": [
    "# 实验十 霍尔效应及其应用\n",
    "\n",
    "> Copyright © 2023 [@Maxwell Jay](https://github.com/MaxwellJay256)\n",
    "> \n",
    "> Copyright © 2024 [@Zjl37](https://github.com/Zjl37)\n",
    ">\n",
    "> 本文件修改自 [HITSZ-OpenAuto/PHYS1002](https://github.com/HITSZ-OpenAuto/PHYS1002)，遵循与彼仓库同样的许可协议。\n"
   ]
  },
  {
   "cell_type": "markdown",
   "metadata": {},
   "source": [
    "## 参考公式\n",
    "\n",
    "\n",
    "### 亥姆赫兹线圈公共轴线中点的磁感应强度\n",
    "\n",
    "$$\n",
    "B_0 = \\frac{8 \\mu_0 N I_M}{5 ^ {3/2} R}\n",
    "$$\n",
    "\n",
    "### 各向异性磁阻传感器\n",
    "\n",
    "传感器灵敏度定义式：\n",
    "$$\n",
    "s = \\frac{V_{out}}{(V_s \\cdot B)}\n",
    "$$\n"
   ]
  },
  {
   "cell_type": "code",
   "execution_count": null,
   "metadata": {},
   "outputs": [],
   "source": [
    "import matplotlib.pyplot as plt\n",
    "import numpy as np\n",
    "import scipy.constants as cnst\n",
    "import scipy\n",
    "import csv\n",
    "\n",
    "def read_csv(filename):\n",
    "    \"\"\"读取 csv 文件\"\"\"\n",
    "    with open(filename, 'r') as f:\n",
    "        reader = csv.reader(f)\n",
    "        return list(filter(len, reader)) # 去除空行\n",
    "\n",
    "plt.rc('font', size=9)\n",
    "plt.rcParams['text.usetex'] = True # 如果你的电脑上没装有 LaTeX 环境或画图仍遇到问题，注释此行"
   ]
  },
  {
   "cell_type": "markdown",
   "metadata": {
    "jp-MarkdownHeadingCollapsed": true
   },
   "source": [
    "**载流直螺线管的主要参数**\n",
    "\n",
    "| 总长 | 线圈内径 | 匝数 |\n",
    "| :--: | :------: | :--: |\n",
    "| 0.270m | 0.030m | 3200 |\n"
   ]
  },
  {
   "cell_type": "code",
   "execution_count": null,
   "metadata": {},
   "outputs": [],
   "source": [
    "# 读取数据\n",
    "data = read_csv('./data/st1-VH-IM-raw.csv')\n",
    "header = data[0]\n",
    "data = np.array(data[1:]).transpose()\n",
    "# 提取数据\n",
    "IM = data[0].astype(float) # (A)\n",
    "V = data[[2,3,4,5]].astype(float) # [V1, V2, V3, V4] (mV)\n",
    "\n",
    "# 参数\n",
    "n = 3200 # 匝数\n",
    "L = 0.270 # (m)\n",
    "D = 0.030 # (m)\n",
    "\n",
    "IS = 5.000 # (mA)\n"
   ]
  },
  {
   "cell_type": "markdown",
   "metadata": {},
   "source": [
    "### 参考公式：螺线管轴线中央的磁场强度\n",
    "$$\n",
    "B = \\frac {\\mu_0 n I_M} {\\sqrt {L^2 + D^2}}\n",
    "$$\n"
   ]
  },
  {
   "cell_type": "code",
   "execution_count": null,
   "metadata": {},
   "outputs": [],
   "source": [
    "# 计算 V_H\n",
    "VH = (V[0]-V[1]+V[2]-V[3])/4 # (mV)\n",
    "\n",
    "# 计算磁感应强度\n",
    "B = cnst.mu_0 * n / np.hypot(L, D) * IM # (T)\n",
    "B = 1000*B # mT"
   ]
  },
  {
   "cell_type": "code",
   "execution_count": null,
   "metadata": {},
   "outputs": [],
   "source": [
    "# 保存处理的数据\n",
    "data[1] = [f'{x:.2f}' for x in B]\n",
    "data[6] = [f'{x:.2f}' for x in VH]\n",
    "\n",
    "with open('./data/st1-VH-IM.csv', 'w') as f:\n",
    "    writer = csv.writer(f)\n",
    "    writer.writerow(header)\n",
    "    writer.writerows(data.transpose())"
   ]
  },
  {
   "cell_type": "markdown",
   "metadata": {},
   "source": [
    "### 参考公式：霍尔元件的灵敏度\n",
    "\n",
    "$$\n",
    "K_H = \\frac{V_H}{I_S B}\n",
    "$$\n"
   ]
  },
  {
   "cell_type": "code",
   "execution_count": null,
   "metadata": {},
   "outputs": [],
   "source": [
    "# 使用最小二乘法计算灵敏度\n",
    "slope, intercept, r_value, p_value, std_err = scipy.stats.linregress(IM, VH) # slope: (mV/A)\n",
    "\n",
    "# 作 V_H–I_M 图\n",
    "plt.figure(figsize=(3,2))\n",
    "\n",
    "def yhat(x):\n",
    "    return slope*x + intercept\n",
    "plt.plot([0, 0.8], [yhat(0), yhat(0.8)], color='dodgerblue')\n",
    "\n",
    "plt.plot(IM, VH, '+', color='navy')\n",
    "\n",
    "plt.ylabel(r'$V_H\\:/\\:{\\rm mV}$')\n",
    "plt.xlabel(r'$I_M\\:/\\:{\\rm A}$')\n",
    "plt.grid()\n",
    "plt.savefig('./fig/st1-VH-IM.svg', bbox_inches='tight')\n",
    "plt.show()\n",
    "\n",
    "print('斜率 slope =', slope, 'mV/A')\n",
    "\n",
    "slope = slope/1000 # (V/A)\n",
    "KH1 = slope * np.hypot(L, D) / (IS * cnst.mu_0 * n) # (V/mA/T)\n",
    "KH1 = 1000*KH1 # (V/A/T)\n",
    "\n",
    "print('灵敏度 K_H1 =', KH1, 'V/A/T')\n",
    "print('相关系数 r =', r_value)\n"
   ]
  },
  {
   "cell_type": "markdown",
   "metadata": {},
   "source": [
    "## 2. 测量霍尔电压 $V_H$ 与工作电流 $I_S$ 的关系"
   ]
  },
  {
   "cell_type": "code",
   "execution_count": null,
   "metadata": {},
   "outputs": [],
   "source": [
    "# 读取数据\n",
    "data = read_csv('./data/st2-VH-IS-raw.csv')\n",
    "header = data[0]\n",
    "data = np.array(data[1:]).transpose()\n",
    "# 提取数据\n",
    "IS = data[0].astype(float)\n",
    "V = data[[1,2,3,4]].astype(float) # [V1, V2, V3, V4] (mV)\n",
    "\n",
    "# 计算 V_H\n",
    "VH = (V[0]-V[1]+V[2]-V[3])/4 # (mV)\n",
    "# 保存处理的数据\n",
    "data[5] = [f'{x:.2f}' for x in VH]\n",
    "\n",
    "with open('./data/st2-VH-IS.csv', 'w') as f:\n",
    "    writer = csv.writer(f)\n",
    "    writer.writerow(header)\n",
    "    writer.writerows(data.transpose())\n",
    "\n",
    "# 参数\n",
    "IM = 0.500 # (A)\n",
    "B = cnst.mu_0 * n * IM / np.hypot(L, D) # (T)\n",
    "\n",
    "# 使用最小二乘法计算灵敏度\n",
    "slope, intercept, r_value, p_value, std_err = scipy.stats.linregress(IS, VH) # slope: (mV/mA) 即 (V/A)\n",
    "KH2 = slope / B # (V/A/T)\n",
    "print('斜率 slope =', slope, 'mV/mA')\n",
    "print('灵敏度 K_H2 =', KH2, 'V/A/T')\n",
    "print('相关系数 r =', r_value)\n",
    "\n",
    "# 画图\n",
    "plt.figure(figsize=(3, 2))\n",
    "\n",
    "def yhat(x):\n",
    "    return slope*x + intercept\n",
    "plt.plot([0, 10], [yhat(0), yhat(10)], color='orange')\n",
    "\n",
    "plt.plot(IS, VH, '+', color='red')\n",
    "plt.ylabel(r'$V_H\\:/\\:\\rm{mV}$')\n",
    "plt.xlabel(r'$I_S\\:/\\:\\rm{mA}$')\n",
    "plt.grid()\n",
    "plt.savefig('./fig/st2-VH-IS.svg', bbox_inches='tight')\n",
    "plt.show()\n"
   ]
  },
  {
   "cell_type": "markdown",
   "metadata": {},
   "source": [
    "综合两次实验，得到霍尔元件的灵敏度 $K_H$："
   ]
  },
  {
   "cell_type": "code",
   "execution_count": null,
   "metadata": {},
   "outputs": [],
   "source": [
    "KH = (KH1 + KH2) / 2 # V/A/T\n",
    "print('灵敏度 KH =', KH, 'V/A/T')"
   ]
  },
  {
   "cell_type": "markdown",
   "metadata": {},
   "source": [
    "## 3. 测量螺线管中磁感应强度 $B$ 的大小及分布情况"
   ]
  },
  {
   "cell_type": "code",
   "execution_count": null,
   "metadata": {},
   "outputs": [],
   "source": [
    "# 读取数据\n",
    "data = read_csv('./data/st3-VH-X-raw.csv')\n",
    "header = data[0]\n",
    "data = np.array(data[1:]).transpose()\n",
    "\n",
    "# 参数\n",
    "IM = 0.500 # (A)\n",
    "IS = 5.000 # (mA)\n",
    "\n",
    "# 提取数据\n",
    "x = data[0].astype(float) # (mm)\n",
    "V = data[[1,2,3,4]].astype(float) # [V1, V2, V3, V4] (mV)\n",
    "# 计算 V_H\n",
    "VH = (V[0]-V[1]+V[2]-V[3])/4 # (mV)\n",
    "# 计算各点磁感应强度\n",
    "B = VH / (IS * KH) # (T)\n",
    "B = B*1000 # (mT)\n",
    "\n",
    "# 保存处理的数据\n",
    "data[5] = [f'{x:.2f}' for x in VH]\n",
    "data[6] = [f'{x:.2f}' for x in B]\n",
    "\n",
    "with open('./data/st3-VH-X.csv', 'w') as f:\n",
    "    writer = csv.writer(f)\n",
    "    writer.writerow(header)\n",
    "    writer.writerows(data.transpose())\n"
   ]
  },
  {
   "cell_type": "code",
   "execution_count": null,
   "metadata": {},
   "outputs": [],
   "source": [
    "# 使用最小二乘法拟合曲线\n",
    "\n",
    "def B_fn(x, B0, L, x0, D):\n",
    "    \"\"\"modal function for B\"\"\"\n",
    "    \"\"\"x, x0, L, D: (mm); B0: (mT)\"\"\"\n",
    "    X = x - x0\n",
    "    return B0*((L-X)/np.hypot(L-X, D/2) + X/np.hypot(X, D/2))\n",
    "\n",
    "popt, pcov = scipy.optimize.curve_fit(B_fn, x, B)\n",
    "B0, L, x0, D = popt\n",
    "print(\"拟合曲线的参数：\")\n",
    "print(\"    B0 =\", B0, \"mT\")\n",
    "print(\"     L =\", L , \"mm\")\n",
    "print(\"    x0 =\", x0, \"mm\")\n",
    "print(\"     D =\", D , \"mm\")\n",
    "print(\"对称轴 x =\", L/2+x0 , \"mm\")\n",
    "\n"
   ]
  },
  {
   "cell_type": "code",
   "execution_count": null,
   "metadata": {},
   "outputs": [],
   "source": [
    "\n",
    "# 画图\n",
    "plt.figure(figsize=(6, 4))\n",
    "\n",
    "# 拟合曲线\n",
    "xspc = np.linspace(-10, 310, 512)\n",
    "Bexp = B_fn(xspc, *popt)\n",
    "plt.plot(xspc, Bexp, color='limegreen')\n",
    "# 原始数据点\n",
    "plt.plot(x, B, 'x', color='darkgreen')\n",
    "# 对称轴\n",
    "plt.vlines(L/2+x0, 0, 2*B0, 'yellow', 'dashed')\n",
    "\n",
    "plt.ylabel(r'$B\\:/\\:{\\rm mT}$')\n",
    "plt.xlabel(r'$x\\:/\\:{\\rm mm}$')\n",
    "plt.grid()\n",
    "plt.savefig('./fig/st3-B-x.svg', bbox_inches='tight')\n",
    "plt.show()\n"
   ]
  },
  {
   "cell_type": "markdown",
   "metadata": {},
   "source": [
    "**亥姆赫兹线圈的主要参数**\n",
    "| 有效半径 | 匝数 | 线径 |\n",
    "| :------: | :--: | :--: |\n",
    "| 0.100m | 310 | 0.6mm |\n"
   ]
  },
  {
   "cell_type": "markdown",
   "metadata": {},
   "source": [
    "## 4. 各向异性磁阻传感器（AMR）特性\n",
    "\n",
    "这部分实验中，B 的单位是 Gs，即高斯。$1 \\rm T = 10^4 Gs$"
   ]
  },
  {
   "cell_type": "code",
   "execution_count": null,
   "metadata": {},
   "outputs": [],
   "source": [
    "\n",
    "plt.figure(figsize=(6, 4))\n",
    "plt.plot(B, Vout, 'o-', color='brown')\n",
    "plt.ylabel(r'$V_{out} \\: / \\: \\rm mV$')\n",
    "plt.xlabel(r'$B \\: / \\: \\rm Gs$')\n",
    "plt.grid()\n",
    "plt.savefig('./fig/4-Vout-B.svg', bbox_inches='tight')\n",
    "plt.show()\n"
   ]
  },
  {
   "cell_type": "markdown",
   "metadata": {},
   "source": [
    "## 5. 各向异性磁阻传感器（AMR）输出电压与角度之间的关系"
   ]
  },
  {
   "cell_type": "code",
   "execution_count": null,
   "metadata": {},
   "outputs": [],
   "source": [
    "# 读取数据\n",
    "data = read_csv('./data/st5-Vout-theta.csv')\n",
    "header = data[0]\n",
    "data = np.array(data[1:]).transpose()\n",
    "# 提取数据\n",
    "theta = data[0].astype(float) # (°)\n",
    "Vout = data[1].astype(float) # (mV)\n",
    "\n",
    "# 画 Vout-theta 关系曲线\n",
    "plt.figure(figsize=(6, 4))\n",
    "plt.plot(theta, Vout, 'o-', color='purple')\n",
    "plt.ylabel(r'$V_{out} \\: / \\: \\rm mV$')\n",
    "plt.xlabel(r'$\\theta \\: / \\: \\rm ^{\\circ}$')\n",
    "plt.grid()\n",
    "plt.savefig('./fig/st5-Vout-theta.svg', bbox_inches='tight')\n",
    "plt.show()\n"
   ]
  },
  {
   "cell_type": "markdown",
   "metadata": {},
   "source": [
    "## 思考题\n",
    "\n",
    "- 估算本实验所用霍尔片的载流子浓度。\n",
    "\n",
    "$K_H = \\frac{1}{n e d}$，所以 $n = \\frac{1}{K_H e d}$。"
   ]
  },
  {
   "cell_type": "code",
   "execution_count": null,
   "metadata": {},
   "outputs": [],
   "source": [
    "# 参数\n",
    "d = 0.001 # (m)\n",
    "n = 1 / (KH * cnst.e * d) # m**-3\n",
    "print('载流子浓度 n =', n, 'm^-3')"
   ]
  },
  {
   "cell_type": "code",
   "execution_count": null,
   "metadata": {},
   "outputs": [],
   "source": []
  }
 ],
 "metadata": {
  "kernelspec": {
   "display_name": "Python 3 (ipykernel)",
   "language": "python",
   "name": "python3"
  },
  "language_info": {
   "codemirror_mode": {
    "name": "ipython",
    "version": 3
   },
   "file_extension": ".py",
   "mimetype": "text/x-python",
   "name": "python",
   "nbconvert_exporter": "python",
   "pygments_lexer": "ipython3",
   "version": "3.11.8"
  }
 },
 "nbformat": 4,
 "nbformat_minor": 4
}
