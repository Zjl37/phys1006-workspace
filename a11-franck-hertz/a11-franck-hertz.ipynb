{
 "cells": [
  {
   "cell_type": "markdown",
   "metadata": {},
   "source": [
    "# 实验十一 弗兰克-赫兹实验"
   ]
  },
  {
   "cell_type": "code",
   "execution_count": null,
   "metadata": {},
   "outputs": [],
   "source": [
    "import matplotlib\n",
    "import matplotlib.pyplot as plt\n",
    "import numpy as np\n",
    "import scipy.constants as cnst\n",
    "import scipy\n",
    "import csv\n",
    "\n",
    "def read_csv(filename):\n",
    "    \"\"\"读取 csv 文件\"\"\"\n",
    "    with open(filename, 'r') as f:\n",
    "        reader = csv.reader(f)\n",
    "        return list(filter(len, reader)) # 去除空行\n",
    "\n",
    "plt.rc('font', size=9)\n",
    "# 如果你的电脑上没装有 LaTeX 环境或画图仍遇到问题，注释以下行\n",
    "matplotlib.use('pgf')\n",
    "plt.rcParams['text.usetex'] = True"
   ]
  },
  {
   "cell_type": "code",
   "execution_count": null,
   "metadata": {},
   "outputs": [],
   "source": [
    "# 读取数据\n",
    "data_filename = './data/1.csv'\n",
    "data = read_csv(data_filename)\n",
    "header = data[0]\n",
    "data = np.array(data[1:]).transpose()\n",
    "# 提取数据\n",
    "V = data[0].astype(float) # (V)\n",
    "IP1 = data[1].astype(float) # (nA)\n",
    "IP2 = data[2].astype(float) # (nA)\n"
   ]
  },
  {
   "cell_type": "code",
   "execution_count": null,
   "metadata": {},
   "outputs": [],
   "source": [
    "if not IP2.any():\n",
    "    raise ValueError(f\"请先在'{data_filename}'文件中填写你的实验数据。\")"
   ]
  },
  {
   "cell_type": "code",
   "execution_count": null,
   "metadata": {},
   "outputs": [],
   "source": [
    "def find_period(ls):\n",
    "    n = len(ls)//2\n",
    "    # head, tail, dist = ls[:n], ls[-n:], (len(ls) - n)\n",
    "    # head, tail, dist = ls[:n], ls[n:2*n], n\n",
    "    head, tail, dist = ls[-2*n:-n], ls[-n:], n\n",
    "    p1 = sum(xr - xl for xl, xr in zip(head, tail))/n/dist\n",
    "    print(\"    用逐差法求得\", p1)\n",
    "\n",
    "    slope, *_ = scipy.stats.linregress(range(len(ls)), ls)\n",
    "    print(\"    用最小二乘法求得\", slope)\n",
    "\n",
    "    return p1, slope"
   ]
  },
  {
   "cell_type": "code",
   "execution_count": null,
   "metadata": {},
   "outputs": [],
   "source": [
    "for i, IP in enumerate([IP1, IP2]):\n",
    "    idx, _ = scipy.signal.find_peaks(IP)\n",
    "    print(f\"第{i+1}组原始数据的最大值点：\")\n",
    "    print(V[idx][:-1]) # [:-1] 以去除最后一个伪峰\n",
    "    print(\"平均间距：\")\n",
    "    find_period(V[idx][:-1])"
   ]
  },
  {
   "cell_type": "code",
   "execution_count": null,
   "metadata": {},
   "outputs": [],
   "source": [
    "import itertools\n",
    "def batched(iterable, n):\n",
    "    \"Batch data into tuples of length n. The last batch may be shorter.\"\n",
    "    # batched('ABCDEFG', 3) --> ABC DEF G\n",
    "    if n < 1:\n",
    "        raise ValueError('n must be at least one')\n",
    "    it = iter(iterable)\n",
    "    while (batch := tuple(itertools.islice(it, n))):\n",
    "        yield batch\n"
   ]
  },
  {
   "cell_type": "code",
   "execution_count": null,
   "metadata": {},
   "outputs": [],
   "source": [
    "# 这里用多个高斯函数的叠加作模型函数以拟合实验数据\n",
    "# 你可能会想用其他模型函数拟合\n",
    "def gaussian(x, A, mu, sigma):\n",
    "    \"\"\"A: 与高度正相关；mu: 中心位置；sigma: 与宽度正相关\"\"\"\n",
    "    return A * np.exp(-(x - mu)**2 / (2*sigma**2))\n",
    "\n",
    "def modal(x, *args):\n",
    "    \"\"\"args: [b, A1, mu1, sigma1, A2, mu2, sigma2, ...]\"\"\"\n",
    "    \"\"\"args 中的第一个参数 b 为纵向偏移，剩余参数三个一组各决定一个高斯函数\"\"\"\n",
    "    return sum(\n",
    "        gaussian(x, *arg3)\n",
    "        for arg3 in batched(args[1:], 3)\n",
    "    ) + args[0]\n",
    "\n",
    "# 初始参数\n",
    "p0 = [-120, 40, 15, 1, 60, 26, 1, 80, 37, 1, 100, 48, 1, 120, 59, 1, 140, 70, 1, 160, 81, 1]"
   ]
  },
  {
   "cell_type": "code",
   "execution_count": null,
   "metadata": {},
   "outputs": [],
   "source": [
    "def fit_detail(popt):\n",
    "    b, *param = popt\n",
    "    param = sorted(batched(param, 3), key=lambda args: args[1])\n",
    "    mus = [args[1] for args in param]\n",
    "    print(mus)\n",
    "    return find_period(mus)"
   ]
  },
  {
   "cell_type": "code",
   "execution_count": null,
   "metadata": {},
   "outputs": [],
   "source": [
    "out_file = ['./fig/2-g1-IA-UG2K.png', './fig/3-g2-IA-UG2K.png'] # 图片保存路径\n",
    "\n",
    "U0_m = []\n",
    "\n",
    "# 拟合与作图\n",
    "for i, IP in enumerate([IP1, IP2]):\n",
    "    plt.figure(figsize=(6, 4.6))\n",
    "\n",
    "    # [20:-14]：拟合时去除头、尾的数据；你可能想要依据你的数据作取舍\n",
    "    popt, pcov = scipy.optimize.curve_fit(modal, V[20:-14], IP[20:-14], p0)\n",
    "    popt\n",
    "    # 10, 85：拟合曲线的作图范围，你可能想要依据你的数据作取舍\n",
    "    xspc = np.linspace(10, 85, 512)\n",
    "    yfit = modal(xspc, *popt)\n",
    "    print(f\"第{i+1}组拟合曲线的峰位置：\")\n",
    "    U0_m.extend(fit_detail(popt))\n",
    "    # plt.plot(xspc, yfit, color='orange', label=r\"拟合曲线\")\n",
    "    \n",
    "    plt.plot(V, IP, 'x-', markersize=3, linewidth=1, label=r\"原始数据\")\n",
    "\n",
    "    plt.xlabel(r'$U_{G_2 K}\\:/\\:{\\rm V}$')\n",
    "    plt.ylabel(r'$I_A\\:/\\:{\\rm mA}$')\n",
    "    # # 如图例上无法显示汉字，更改下面的字体\n",
    "    # plt.legend(prop={'family': 'Source Han Sans CN'})\n",
    "    plt.grid()\n",
    "    plt.savefig(out_file[i], bbox_inches='tight', dpi=600)\n",
    "    # plt.show()\n",
    "    "
   ]
  },
  {
   "cell_type": "code",
   "execution_count": null,
   "metadata": {},
   "outputs": [],
   "source": [
    "U0m = np.mean(U0_m)\n",
    "U0m"
   ]
  },
  {
   "cell_type": "code",
   "execution_count": null,
   "metadata": {},
   "outputs": [],
   "source": [
    "U0 = 11.7 # (V)\n",
    "E = (U0m - U0)/U0*100\n",
    "print(\"相对误差 E =\", E, \"%\")"
   ]
  },
  {
   "cell_type": "code",
   "execution_count": null,
   "metadata": {},
   "outputs": [],
   "source": []
  }
 ],
 "metadata": {
  "kernelspec": {
   "display_name": "Python 3 (ipykernel)",
   "language": "python",
   "name": "python3"
  },
  "language_info": {
   "codemirror_mode": {
    "name": "ipython",
    "version": 3
   },
   "file_extension": ".py",
   "mimetype": "text/x-python",
   "name": "python",
   "nbconvert_exporter": "python",
   "pygments_lexer": "ipython3",
   "version": "3.12.3"
  }
 },
 "nbformat": 4,
 "nbformat_minor": 4
}
