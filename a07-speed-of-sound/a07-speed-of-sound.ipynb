{
 "cells": [
  {
   "cell_type": "markdown",
   "metadata": {},
   "source": [
    "# 实验七 空气中声速的测量\n",
    "\n",
    "Copyright © 2023 longlin\n",
    "\n",
    "Copyright © 2024 Zjl37\n",
    "\n",
    "本 notebook 修改自 [HITSZ-OpenAuto/PHYS1002](https://github.com/HITSZ-OpenAuto/PHYS1002/blob/3554c6e1852fe3a9cc18beb9fd8cbcd1df761ea6/Exp07/%E5%A3%B0%E9%80%9F%E6%B5%8B%E9%87%8F%EF%BC%88by%20longlin%EF%BC%89.ipynb)，以与 HITSZ-OpenAuto 项目相同的协议授权。\n"
   ]
  },
  {
   "cell_type": "code",
   "execution_count": null,
   "metadata": {},
   "outputs": [],
   "source": [
    "import matplotlib.pyplot as plt\n",
    "import numpy as np\n",
    "import math\n",
    "import yaml\n",
    "import re"
   ]
  },
  {
   "cell_type": "code",
   "execution_count": null,
   "metadata": {},
   "outputs": [],
   "source": [
    "# 如果你未做“波形移动法测空气中声速”部分，将下面常量改为 False\n",
    "ENABLE_ST3 = True\n",
    "# 如果你未做“时差法测固体中声速”部分，将下面常量改为 False\n",
    "ENABLE_ST5 = True\n",
    "# st is short for subtask"
   ]
  },
  {
   "cell_type": "code",
   "execution_count": null,
   "metadata": {},
   "outputs": [],
   "source": [
    "# 从文件中读取数据\n",
    "data_file = './data/data.yaml'\n",
    "data = yaml.safe_load(open(data_file))\n",
    "def data_to_list(ln, cast=float):\n",
    "    return list(map(cast, re.split(r'[,，;；]?\\s+', ln)))"
   ]
  },
  {
   "cell_type": "code",
   "execution_count": null,
   "metadata": {},
   "outputs": [],
   "source": [
    "if not data_to_list(data['st4']['t_i'])[7]:\n",
    "    raise ValueError(f'请先在 {data_file} 文件中填写好你的实验数据。')"
   ]
  },
  {
   "cell_type": "code",
   "execution_count": null,
   "metadata": {},
   "outputs": [],
   "source": [
    "def v0_ref(t):\n",
    "    \"\"\"计算温度 t ℃ 时空气中声速的参考值\"\"\"\n",
    "    return 331.45*math.sqrt(1+t/273.15) # (m/s)\n"
   ]
  },
  {
   "cell_type": "code",
   "execution_count": null,
   "metadata": {},
   "outputs": [],
   "source": [
    "def calc(l: list[float], frequency: float, factor: float = 2):\n",
    "    \"\"\"使用逐差法计算 l_i 的平均差距，并输出结果波长、声速的计算结果。\"\"\"\n",
    "    \"\"\"l 的单位为 mm，frequency 的单位为 kHz\"\"\"\n",
    "    \"\"\"factor 为 λ/Δl，在“波形移动法”部分中为 1，其余部分中应为 2.\"\"\"\n",
    "    \n",
    "    l = np.array(l)\n",
    "    n = len(l)//2\n",
    "\n",
    "    dl = (l[-n:] - l[:n]).sum()/n/(len(l)-n) # (mm)\n",
    "    dl = abs(dl) # (mm)\n",
    "    \n",
    "    print(f\"　　间隔 Δl = {round(abs(dl), 3)} mm\")\n",
    "    wavelen = factor*dl # (mm)\n",
    "    print(f\"　　波长  λ = {round(abs(wavelen), 3)} mm\")\n",
    "    v = wavelen*frequency # (m/s)\n",
    "    print(f\"　　声速  v = {round(abs(v), 3)} m/s\")\n",
    "    \n",
    "    E = (v - v0)/v0\n",
    "    print(f\"相对误差  E = {E}\")\n"
   ]
  },
  {
   "cell_type": "markdown",
   "metadata": {},
   "source": [
    "## 1. 极值法（驻波法）测空气中声速"
   ]
  },
  {
   "cell_type": "code",
   "execution_count": null,
   "metadata": {},
   "outputs": [],
   "source": [
    "for st in [data['st1']]:\n",
    "    l = data_to_list(st['l_i'])\n",
    "    f = float(st['f'])\n",
    "    t = float(st['t'])\n",
    "    v0 = v0_ref(t)\n",
    "    print(f\"参考声速 v0 = {round(abs(v0), 3)} m/s\")\n",
    "    calc(l, f)"
   ]
  },
  {
   "cell_type": "markdown",
   "metadata": {},
   "source": [
    "## 2. 相位比较法测空气中声速"
   ]
  },
  {
   "cell_type": "code",
   "execution_count": null,
   "metadata": {},
   "outputs": [],
   "source": [
    "for st in [data['st2']]:\n",
    "    l = data_to_list(st['l_i'])\n",
    "    f = float(st['f'])\n",
    "    t = float(st['t'])\n",
    "    v0 = v0_ref(t)\n",
    "    print(f\"参考声速 v0 = {round(abs(v0), 3)} m/s\")\n",
    "    calc(l, f)\n",
    "    # 以上计算是按每个数据点对应的李萨如图形呈直线的斜率是正负交替的情形进行的；\n",
    "    # 如果按你的实验方法，记录的每个数据点对应的李萨如图形呈直线皆沿同一方向，则用：\n",
    "    # calc(l, f, factor=1)"
   ]
  },
  {
   "cell_type": "markdown",
   "metadata": {},
   "source": [
    "## 3. 波形移动法测空气中声速"
   ]
  },
  {
   "cell_type": "code",
   "execution_count": null,
   "metadata": {},
   "outputs": [],
   "source": [
    "for st in [data['st3']]*ENABLE_ST3:\n",
    "    l = data_to_list(st['l_i'])\n",
    "    f = float(st['f'])\n",
    "    t = float(st['t'])\n",
    "    v0 = v0_ref(t)\n",
    "    print(f\"参考声速 v0 = {round(abs(v0), 3)} m/s\")\n",
    "    calc(l, f, factor=1)"
   ]
  },
  {
   "cell_type": "markdown",
   "metadata": {},
   "source": [
    "## 4. 时差法测空气中声速"
   ]
  },
  {
   "cell_type": "code",
   "execution_count": null,
   "metadata": {},
   "outputs": [],
   "source": [
    "def calc_st4(l: list[float], t: list[float]):\n",
    "    \"\"\"“时差法测空气中声速”部分；用最小二乘法计算声速\"\"\"\n",
    "    \"\"\"l 的单位为 mm，t 的单位为 µs\"\"\"\n",
    "    import scipy\n",
    "    \n",
    "    l = 1e-3*np.array(l) # (m)\n",
    "    t = 1e-6*np.array(t) # (s)\n",
    "    slope, intercept, r_value, p_value, std_err = scipy.stats.linregress(t, l) # slope: (mV/mA) 即 (V/A)\n",
    "\n",
    "    v = slope # (m/s)\n",
    "    print(f\"　　声速 v = {round(abs(v), 3)} m/s\")\n",
    "    print(f\"相关系数 r = {r_value}\")\n",
    "    return v\n",
    "    "
   ]
  },
  {
   "cell_type": "code",
   "execution_count": null,
   "metadata": {},
   "outputs": [],
   "source": [
    "for st in [data['st4']]:\n",
    "    l = data_to_list(st['l_i'])\n",
    "    t = data_to_list(st['t_i'])\n",
    "    temp = float(st['t'])\n",
    "    v0 = v0_ref(temp)\n",
    "    print(f\"参考声速 v0 = {round(abs(v0), 3)} m/s\")\n",
    "    v = calc_st4(l, t)\n",
    "    E = (abs(v) - v0)/v0\n",
    "    print(f\"相对误差 E = {E}\")"
   ]
  },
  {
   "cell_type": "markdown",
   "metadata": {},
   "source": [
    "## 5. 时差法测固体中声速"
   ]
  },
  {
   "cell_type": "code",
   "execution_count": null,
   "metadata": {},
   "outputs": [],
   "source": [
    "st = data['st5']\n",
    "material = data_to_list(st['材质'], cast=str)\n",
    "l = data_to_list(st['l_i'])\n",
    "t = data_to_list(st['t_i'])"
   ]
  },
  {
   "cell_type": "code",
   "execution_count": null,
   "metadata": {},
   "outputs": [],
   "source": [
    "for st in [data['st5']]*ENABLE_ST5:\n",
    "    material = data_to_list(st['材质'], cast=str)\n",
    "    l = data_to_list(st['l_i'])\n",
    "    t = data_to_list(st['t_i'])\n",
    "    \n",
    "    material = np.array(material)\n",
    "    l = np.array(l)\n",
    "    t = np.array(t)\n",
    "    \n",
    "    for mat in set(material):\n",
    "        li = l[material == mat]\n",
    "        ti = t[material == mat]\n",
    "        print(f\"===== 材质：{mat} =====\")\n",
    "        calc_st4(li, ti)"
   ]
  },
  {
   "cell_type": "code",
   "execution_count": null,
   "metadata": {},
   "outputs": [],
   "source": []
  },
  {
   "cell_type": "code",
   "execution_count": null,
   "metadata": {},
   "outputs": [],
   "source": []
  }
 ],
 "metadata": {
  "kernelspec": {
   "display_name": "Python 3 (ipykernel)",
   "language": "python",
   "name": "python3"
  },
  "language_info": {
   "codemirror_mode": {
    "name": "ipython",
    "version": 3
   },
   "file_extension": ".py",
   "mimetype": "text/x-python",
   "name": "python",
   "nbconvert_exporter": "python",
   "pygments_lexer": "ipython3",
   "version": "3.12.3"
  }
 },
 "nbformat": 4,
 "nbformat_minor": 4
}
